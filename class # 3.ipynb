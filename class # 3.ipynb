{
 "cells": [
  {
   "cell_type": "code",
   "execution_count": 1,
   "id": "0a51ed85",
   "metadata": {},
   "outputs": [],
   "source": [
    "# Lists"
   ]
  },
  {
   "cell_type": "code",
   "execution_count": 2,
   "id": "21bb77c2",
   "metadata": {},
   "outputs": [],
   "source": [
    "name1 = \"Abc\"\n",
    "name2 = \"EFg\"\n",
    "name3 = \"XYZ\""
   ]
  },
  {
   "cell_type": "code",
   "execution_count": 18,
   "id": "1faa24fa",
   "metadata": {},
   "outputs": [],
   "source": [
    "names = [\"abc\", \"efg\", 'xyz', 123, 12.5]"
   ]
  },
  {
   "cell_type": "code",
   "execution_count": 19,
   "id": "87506b90",
   "metadata": {},
   "outputs": [
    {
     "data": {
      "text/plain": [
       "123"
      ]
     },
     "execution_count": 19,
     "metadata": {},
     "output_type": "execute_result"
    }
   ],
   "source": [
    "names[3]"
   ]
  },
  {
   "cell_type": "code",
   "execution_count": 23,
   "id": "797ee394",
   "metadata": {},
   "outputs": [
    {
     "data": {
      "text/plain": [
       "12.5"
      ]
     },
     "execution_count": 23,
     "metadata": {},
     "output_type": "execute_result"
    }
   ],
   "source": [
    "names[-1]"
   ]
  },
  {
   "cell_type": "code",
   "execution_count": 26,
   "id": "3e790e00",
   "metadata": {},
   "outputs": [
    {
     "data": {
      "text/plain": [
       "['efg', 'xyz']"
      ]
     },
     "execution_count": 26,
     "metadata": {},
     "output_type": "execute_result"
    }
   ],
   "source": [
    "names[1:3]"
   ]
  },
  {
   "cell_type": "code",
   "execution_count": 33,
   "id": "792ef26c",
   "metadata": {},
   "outputs": [
    {
     "data": {
      "text/plain": [
       "['abc', 'efg', 'xyz']"
      ]
     },
     "execution_count": 33,
     "metadata": {},
     "output_type": "execute_result"
    }
   ],
   "source": [
    "names[0:3]"
   ]
  },
  {
   "cell_type": "code",
   "execution_count": 34,
   "id": "9f55c77c",
   "metadata": {},
   "outputs": [
    {
     "data": {
      "text/plain": [
       "['abc', 'efg', 'xyz']"
      ]
     },
     "execution_count": 34,
     "metadata": {},
     "output_type": "execute_result"
    }
   ],
   "source": [
    "names[:3]"
   ]
  },
  {
   "cell_type": "code",
   "execution_count": 36,
   "id": "911923b0",
   "metadata": {},
   "outputs": [
    {
     "data": {
      "text/plain": [
       "['efg', 'xyz', 123, 12.5]"
      ]
     },
     "execution_count": 36,
     "metadata": {},
     "output_type": "execute_result"
    }
   ],
   "source": [
    "names[1:]"
   ]
  },
  {
   "cell_type": "code",
   "execution_count": 41,
   "id": "ec043d14",
   "metadata": {},
   "outputs": [
    {
     "data": {
      "text/plain": [
       "2"
      ]
     },
     "execution_count": 41,
     "metadata": {},
     "output_type": "execute_result"
    }
   ],
   "source": [
    "names.index(\"xyz\")"
   ]
  },
  {
   "cell_type": "code",
   "execution_count": 43,
   "id": "c24b75af",
   "metadata": {},
   "outputs": [],
   "source": [
    "# Adding Elements"
   ]
  },
  {
   "cell_type": "code",
   "execution_count": 56,
   "id": "83ad16b6",
   "metadata": {},
   "outputs": [],
   "source": [
    "names.append(678)"
   ]
  },
  {
   "cell_type": "code",
   "execution_count": 59,
   "id": "51d93319",
   "metadata": {},
   "outputs": [],
   "source": [
    "names.insert(2, \"Inserted Element\")"
   ]
  },
  {
   "cell_type": "code",
   "execution_count": 60,
   "id": "2f18368b",
   "metadata": {},
   "outputs": [
    {
     "data": {
      "text/plain": [
       "['abc',\n",
       " 'efg',\n",
       " 'Inserted Element',\n",
       " 'xyz',\n",
       " 123,\n",
       " 12.5,\n",
       " '678',\n",
       " 678,\n",
       " 678,\n",
       " 678,\n",
       " 678,\n",
       " 678,\n",
       " 678,\n",
       " 678,\n",
       " 678,\n",
       " 678]"
      ]
     },
     "execution_count": 60,
     "metadata": {},
     "output_type": "execute_result"
    }
   ],
   "source": [
    "names"
   ]
  },
  {
   "cell_type": "code",
   "execution_count": 61,
   "id": "44f5c728",
   "metadata": {},
   "outputs": [],
   "source": [
    "names[2] = \"Inserted Element Changed\""
   ]
  },
  {
   "cell_type": "code",
   "execution_count": 64,
   "id": "d3829b99",
   "metadata": {},
   "outputs": [],
   "source": [
    "#Deleting Element"
   ]
  },
  {
   "cell_type": "code",
   "execution_count": 65,
   "id": "ad732ebc",
   "metadata": {},
   "outputs": [],
   "source": [
    "del names[4]"
   ]
  },
  {
   "cell_type": "code",
   "execution_count": 67,
   "id": "bc67d88f",
   "metadata": {},
   "outputs": [],
   "source": [
    "names.remove(\"Inserted Element Changed\")"
   ]
  },
  {
   "cell_type": "code",
   "execution_count": 68,
   "id": "1165cc14",
   "metadata": {},
   "outputs": [
    {
     "data": {
      "text/plain": [
       "['abc', 'efg', 'xyz', 12.5, '678', 678, 678, 678, 678, 678, 678, 678, 678, 678]"
      ]
     },
     "execution_count": 68,
     "metadata": {},
     "output_type": "execute_result"
    }
   ],
   "source": [
    "names"
   ]
  },
  {
   "cell_type": "code",
   "execution_count": 70,
   "id": "6b9e60b0",
   "metadata": {},
   "outputs": [],
   "source": [
    "popedElem = names.pop(1)"
   ]
  },
  {
   "cell_type": "code",
   "execution_count": 72,
   "id": "971f8ad3",
   "metadata": {},
   "outputs": [
    {
     "data": {
      "text/plain": [
       "'efg'"
      ]
     },
     "execution_count": 72,
     "metadata": {},
     "output_type": "execute_result"
    }
   ],
   "source": [
    "popedElem"
   ]
  },
  {
   "cell_type": "code",
   "execution_count": 73,
   "id": "f5ac8dde",
   "metadata": {},
   "outputs": [],
   "source": [
    "# tuples\n",
    "tuples = ('a', 'b', 'c') "
   ]
  },
  {
   "cell_type": "code",
   "execution_count": 75,
   "id": "417b7579",
   "metadata": {},
   "outputs": [],
   "source": [
    "# Dictionaries"
   ]
  },
  {
   "cell_type": "code",
   "execution_count": 86,
   "id": "d64488f4",
   "metadata": {},
   "outputs": [],
   "source": [
    "#{key : value , key : value}\n",
    "\n",
    "# Curly Brackets\n",
    "# Key Value Pair which is called Item\n",
    "# Every item will be comma separated"
   ]
  },
  {
   "cell_type": "code",
   "execution_count": 84,
   "id": "17cd585b",
   "metadata": {},
   "outputs": [],
   "source": [
    "dataDict = {\n",
    "    \"Name\" : \"Beb\",\n",
    "    \"Shift\" : \"Night\", \n",
    "    \"Week Days\" : 5\n",
    "}"
   ]
  },
  {
   "cell_type": "code",
   "execution_count": 85,
   "id": "66c6736d",
   "metadata": {},
   "outputs": [
    {
     "data": {
      "text/plain": [
       "'Beb'"
      ]
     },
     "execution_count": 85,
     "metadata": {},
     "output_type": "execute_result"
    }
   ],
   "source": [
    "dataDict[\"Name\"]"
   ]
  },
  {
   "cell_type": "code",
   "execution_count": 87,
   "id": "6a8845f0",
   "metadata": {},
   "outputs": [
    {
     "data": {
      "text/plain": [
       "'Night'"
      ]
     },
     "execution_count": 87,
     "metadata": {},
     "output_type": "execute_result"
    }
   ],
   "source": [
    "dataDict[\"Shift\"]"
   ]
  },
  {
   "cell_type": "code",
   "execution_count": 88,
   "id": "d2cb2683",
   "metadata": {},
   "outputs": [
    {
     "data": {
      "text/plain": [
       "5"
      ]
     },
     "execution_count": 88,
     "metadata": {},
     "output_type": "execute_result"
    }
   ],
   "source": [
    "dataDict[\"Week Days\"]"
   ]
  },
  {
   "cell_type": "code",
   "execution_count": 91,
   "id": "ffc6b508",
   "metadata": {},
   "outputs": [],
   "source": [
    "# Adding items"
   ]
  },
  {
   "cell_type": "code",
   "execution_count": 89,
   "id": "92ebb089",
   "metadata": {},
   "outputs": [],
   "source": [
    "dataDict[\"Commision\"] = 52.5"
   ]
  },
  {
   "cell_type": "code",
   "execution_count": 90,
   "id": "37803709",
   "metadata": {},
   "outputs": [
    {
     "data": {
      "text/plain": [
       "{'Name': 'Beb', 'Shift': 'Night', 'Week Days': 5, 'Commision': 52.5}"
      ]
     },
     "execution_count": 90,
     "metadata": {},
     "output_type": "execute_result"
    }
   ],
   "source": [
    "dataDict"
   ]
  },
  {
   "cell_type": "code",
   "execution_count": 103,
   "id": "7c3d5441",
   "metadata": {},
   "outputs": [],
   "source": [
    "# Changing Value of key"
   ]
  },
  {
   "cell_type": "code",
   "execution_count": 101,
   "id": "4cd830a3",
   "metadata": {},
   "outputs": [],
   "source": [
    "dataDict[\"Name\"] = \"Johnson\""
   ]
  },
  {
   "cell_type": "code",
   "execution_count": 102,
   "id": "c1182a14",
   "metadata": {},
   "outputs": [
    {
     "data": {
      "text/plain": [
       "{'Name': 'Johnson',\n",
       " 'Shift': 'Night',\n",
       " 'Week Days': 5,\n",
       " 'Commision': 52.5,\n",
       " 123: '123',\n",
       " 'name': 'Beb'}"
      ]
     },
     "execution_count": 102,
     "metadata": {},
     "output_type": "execute_result"
    }
   ],
   "source": [
    "dataDict"
   ]
  },
  {
   "cell_type": "code",
   "execution_count": null,
   "id": "c39ab770",
   "metadata": {},
   "outputs": [],
   "source": [
    "# Deleting Elements"
   ]
  },
  {
   "cell_type": "code",
   "execution_count": 112,
   "id": "c4291168",
   "metadata": {},
   "outputs": [],
   "source": [
    "del dataDict[123]"
   ]
  },
  {
   "cell_type": "code",
   "execution_count": 113,
   "id": "3082aefe",
   "metadata": {},
   "outputs": [
    {
     "data": {
      "text/plain": [
       "{'Name': 'Johnson', 'Shift': 'Night', 'Week Days': 5, 'Commision': 52.5}"
      ]
     },
     "execution_count": 113,
     "metadata": {},
     "output_type": "execute_result"
    }
   ],
   "source": [
    "dataDict"
   ]
  },
  {
   "cell_type": "code",
   "execution_count": 107,
   "id": "0329028b",
   "metadata": {},
   "outputs": [
    {
     "data": {
      "text/plain": [
       "dict_keys(['Name', 'Shift', 'Week Days', 'Commision', 123])"
      ]
     },
     "execution_count": 107,
     "metadata": {},
     "output_type": "execute_result"
    }
   ],
   "source": [
    "dataDict.keys()"
   ]
  },
  {
   "cell_type": "code",
   "execution_count": 108,
   "id": "66703f9b",
   "metadata": {},
   "outputs": [
    {
     "data": {
      "text/plain": [
       "dict_values(['Johnson', 'Night', 5, 52.5, '123'])"
      ]
     },
     "execution_count": 108,
     "metadata": {},
     "output_type": "execute_result"
    }
   ],
   "source": [
    "dataDict.values()"
   ]
  },
  {
   "cell_type": "code",
   "execution_count": 109,
   "id": "916d01f4",
   "metadata": {},
   "outputs": [
    {
     "data": {
      "text/plain": [
       "dict_items([('Name', 'Johnson'), ('Shift', 'Night'), ('Week Days', 5), ('Commision', 52.5), (123, '123')])"
      ]
     },
     "execution_count": 109,
     "metadata": {},
     "output_type": "execute_result"
    }
   ],
   "source": [
    "dataDict.items()"
   ]
  },
  {
   "cell_type": "code",
   "execution_count": 110,
   "id": "2a84e34e",
   "metadata": {},
   "outputs": [],
   "source": [
    "# List of Dictionaries"
   ]
  },
  {
   "cell_type": "code",
   "execution_count": 115,
   "id": "70984120",
   "metadata": {},
   "outputs": [],
   "source": [
    "database = [\n",
    "    {'Name': 'Johnson', 'Shift': 'Night', 'Week Days': 3, 'Commision': 52.5},\n",
    "    {'Name': 'Beb', 'Shift': 'Day', 'Week Days': 4, 'Commision': 82.5},\n",
    "    {'Name': 'Michael', 'Shift': 'Night', 'Week Days': 5, 'Commision': 32.5}\n",
    "]"
   ]
  },
  {
   "cell_type": "code",
   "execution_count": 151,
   "id": "b48dff6a",
   "metadata": {},
   "outputs": [],
   "source": [
    "# Dictionary of List"
   ]
  },
  {
   "cell_type": "code",
   "execution_count": 155,
   "id": "5db477d0",
   "metadata": {},
   "outputs": [],
   "source": [
    "dictOfList = {\n",
    "    \"names\" : [\"Johnson\", ['a', 'b', 'c'], \"Michael\"]\n",
    "}"
   ]
  },
  {
   "cell_type": "code",
   "execution_count": 159,
   "id": "a17405e3",
   "metadata": {},
   "outputs": [],
   "source": [
    "# Dictionary of Dictionaries"
   ]
  },
  {
   "cell_type": "code",
   "execution_count": 162,
   "id": "326b2963",
   "metadata": {},
   "outputs": [],
   "source": [
    "dictofDict = {\n",
    "    \"name\" : {\n",
    "        \"std name\" :  \"abc\",\n",
    "        \"father name\" : \"xyz\"\n",
    "    }\n",
    "}"
   ]
  },
  {
   "cell_type": "code",
   "execution_count": 163,
   "id": "fa459639",
   "metadata": {},
   "outputs": [
    {
     "data": {
      "text/plain": [
       "'xyz'"
      ]
     },
     "execution_count": 163,
     "metadata": {},
     "output_type": "execute_result"
    }
   ],
   "source": [
    "dictofDict['name']['father name']"
   ]
  },
  {
   "cell_type": "code",
   "execution_count": 145,
   "id": "e26c7147",
   "metadata": {},
   "outputs": [],
   "source": [
    "name = \"johnson\""
   ]
  },
  {
   "cell_type": "code",
   "execution_count": 147,
   "id": "9e1fd806",
   "metadata": {},
   "outputs": [
    {
     "data": {
      "text/plain": [
       "'Johnson'"
      ]
     },
     "execution_count": 147,
     "metadata": {},
     "output_type": "execute_result"
    }
   ],
   "source": [
    "name.capitalize()"
   ]
  },
  {
   "cell_type": "code",
   "execution_count": 148,
   "id": "98386f7e",
   "metadata": {},
   "outputs": [
    {
     "data": {
      "text/plain": [
       "'Johnson'"
      ]
     },
     "execution_count": 148,
     "metadata": {},
     "output_type": "execute_result"
    }
   ],
   "source": [
    "name.title()"
   ]
  },
  {
   "cell_type": "code",
   "execution_count": 149,
   "id": "912a8674",
   "metadata": {},
   "outputs": [
    {
     "data": {
      "text/plain": [
       "'johnson'"
      ]
     },
     "execution_count": 149,
     "metadata": {},
     "output_type": "execute_result"
    }
   ],
   "source": [
    "name.lower()"
   ]
  },
  {
   "cell_type": "code",
   "execution_count": 150,
   "id": "ac8794fd",
   "metadata": {},
   "outputs": [
    {
     "data": {
      "text/plain": [
       "'JOHNSON'"
      ]
     },
     "execution_count": 150,
     "metadata": {},
     "output_type": "execute_result"
    }
   ],
   "source": [
    "name.upper()"
   ]
  },
  {
   "cell_type": "code",
   "execution_count": null,
   "id": "13565f32",
   "metadata": {},
   "outputs": [],
   "source": [
    "# "
   ]
  }
 ],
 "metadata": {
  "kernelspec": {
   "display_name": "Python 3 (ipykernel)",
   "language": "python",
   "name": "python3"
  },
  "language_info": {
   "codemirror_mode": {
    "name": "ipython",
    "version": 3
   },
   "file_extension": ".py",
   "mimetype": "text/x-python",
   "name": "python",
   "nbconvert_exporter": "python",
   "pygments_lexer": "ipython3",
   "version": "3.10.9"
  }
 },
 "nbformat": 4,
 "nbformat_minor": 5
}
