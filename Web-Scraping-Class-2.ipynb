{
 "cells": [
  {
   "cell_type": "code",
   "execution_count": 1,
   "id": "dae0d82a",
   "metadata": {},
   "outputs": [],
   "source": [
    "import requests\n",
    "from bs4 import BeautifulSoup"
   ]
  },
  {
   "cell_type": "code",
   "execution_count": null,
   "id": "967d1874",
   "metadata": {},
   "outputs": [],
   "source": [
    "res = requests.get(\"https://www.nike.com/w/mens-jordan-shoes-37eefznik1zy7ok\")"
   ]
  },
  {
   "cell_type": "code",
   "execution_count": null,
   "id": "ba675520",
   "metadata": {},
   "outputs": [],
   "source": [
    "soup = BeautifulSoup(res.text, \"html.parser\")"
   ]
  },
  {
   "cell_type": "code",
   "execution_count": null,
   "id": "add1dc3b",
   "metadata": {},
   "outputs": [],
   "source": [
    "elements = soup.find_all(\"div\", {\"data-testid\" : \"product-price\"})"
   ]
  },
  {
   "cell_type": "code",
   "execution_count": null,
   "id": "8aecde41",
   "metadata": {},
   "outputs": [],
   "source": [
    "for element in elements:\n",
    "    print(element.text)"
   ]
  },
  {
   "cell_type": "markdown",
   "id": "656e0000",
   "metadata": {},
   "source": [
    "# Getting All pages details"
   ]
  },
  {
   "cell_type": "code",
   "execution_count": 2,
   "id": "16c29b87",
   "metadata": {},
   "outputs": [],
   "source": [
    "res = requests.get(\"https://www.nike.com/w/mens-jordan-shoes-37eefznik1zy7ok\")"
   ]
  },
  {
   "cell_type": "code",
   "execution_count": 3,
   "id": "c339af24",
   "metadata": {},
   "outputs": [],
   "source": [
    "soup = BeautifulSoup(res.text, \"html.parser\")"
   ]
  },
  {
   "cell_type": "code",
   "execution_count": 4,
   "id": "c33641b9",
   "metadata": {},
   "outputs": [],
   "source": [
    "allPages = soup.find_all(\"a\", {\"class\" : \"product-card__img-link-overlay\"})"
   ]
  },
  {
   "cell_type": "code",
   "execution_count": 9,
   "id": "5b99c690",
   "metadata": {},
   "outputs": [
    {
     "name": "stdout",
     "output_type": "stream",
     "text": [
      "{'product link': 'https://www.nike.com/launch/r/DZ5485-020', 'name': '', 'price': '', 'image': None}\n",
      "{'product link': 'https://www.nike.com/t/air-jordan-xxxviii-fundamental-basketball-shoes-7qLMW4/DZ3356-106', 'name': 'Air Jordan XXXVIII \"Fundamental\"', 'price': '$200', 'image': None}\n",
      "{'product link': 'https://www.nike.com/t/air-jordan-1-low-se-craft-mens-shoes-lcTJxC/DZ4135-002', 'name': 'Air Jordan 1 Low SE Craft', 'price': '$120', 'image': None}\n",
      "{'product link': 'https://www.nike.com/t/air-jordan-1-mid-se-craft-mens-shoes-p0kWbP/DZ4136-002', 'name': 'Air Jordan 1 Mid SE Craft', 'price': '$135', 'image': None}\n",
      "{'product link': 'https://www.nike.com/t/air-jordan-1-low-og-shoes-v0FbJt/CZ0790-101', 'name': 'Air Jordan 1 Low OG', 'price': '$140', 'image': None}\n",
      "{'product link': 'https://www.nike.com/t/jordan-stadium-90-mens-shoes-Pt04mv/DX4397-200', 'name': 'Jordan Stadium 90', 'price': '$140', 'image': None}\n",
      "{'product link': 'https://www.nike.com/t/air-jordan-1-mid-se-mens-shoes-bvPSnj/FJ4923-008', 'name': 'Air Jordan 1 Mid SE', 'price': '$135', 'image': None}\n",
      "{'product link': 'https://www.nike.com/t/jordan-jumpman-team-mens-basketball-shoes-2Qs7Qz/CV8926-105', 'name': 'Jordan Jumpman Team', 'price': '$145', 'image': None}\n",
      "{'product link': 'https://www.nike.com/t/air-jordan-5-retro-se-mens-shoes-07Xgmw/DZ4131-600', 'name': 'Air Jordan 5 Retro SE', 'price': '$225', 'image': None}\n",
      "{'product link': 'https://www.nike.com/t/air-jordan-1-mid-mens-shoes-tXSJ73/DQ8426-401', 'name': 'Air Jordan 1 Mid', 'price': '$125', 'image': None}\n",
      "{'product link': 'https://www.nike.com/t/air-jordan-1-low-mens-shoes-z3Tl2VeJ/553558-041', 'name': 'Air Jordan 1 Low', 'price': '$110', 'image': None}\n",
      "{'product link': 'https://www.nike.com/t/jordan-jumpman-pro-quick-mens-shoes-Zl8wg9/FB9978-107', 'name': 'Jordan Jumpman Pro Quick', 'price': '$145', 'image': None}\n",
      "{'product link': 'https://www.nike.com/t/air-jordan-13-retro-shoe-77XC9C/414571-160', 'name': 'Air Jordan 13 Retro', 'price': '$200', 'image': None}\n",
      "{'product link': 'https://www.nike.com/t/jordan-why-not-6-mens-shoes-T5Gl76/DO7189-100', 'name': 'Jordan Why Not .6', 'price': '$150', 'image': None}\n",
      "{'product link': 'https://www.nike.com/t/air-jordan-7-retro-mens-shoes-7Zr804/CU9307-004', 'name': 'Air Jordan 7 Retro', 'price': '$200', 'image': None}\n",
      "{'product link': 'https://www.nike.com/t/jordan-max-aura-5-mens-shoes-nTmBrg/DZ4353-061', 'name': 'Jordan Max Aura 5', 'price': '$130', 'image': None}\n",
      "{'product link': 'https://www.nike.com/t/air-jordan-legacy-312-low-mens-shoes-Md7GjH/FN8902-161', 'name': 'Air Jordan Legacy 312 Low', 'price': '$145', 'image': None}\n"
     ]
    },
    {
     "ename": "KeyboardInterrupt",
     "evalue": "",
     "output_type": "error",
     "traceback": [
      "\u001b[1;31m---------------------------------------------------------------------------\u001b[0m",
      "\u001b[1;31mFileNotFoundError\u001b[0m                         Traceback (most recent call last)",
      "File \u001b[1;32mC:\\ProgramData\\anaconda3\\lib\\genericpath.py:19\u001b[0m, in \u001b[0;36mexists\u001b[1;34m(path)\u001b[0m\n\u001b[0;32m     18\u001b[0m \u001b[38;5;28;01mtry\u001b[39;00m:\n\u001b[1;32m---> 19\u001b[0m     \u001b[43mos\u001b[49m\u001b[38;5;241;43m.\u001b[39;49m\u001b[43mstat\u001b[49m\u001b[43m(\u001b[49m\u001b[43mpath\u001b[49m\u001b[43m)\u001b[49m\n\u001b[0;32m     20\u001b[0m \u001b[38;5;28;01mexcept\u001b[39;00m (\u001b[38;5;167;01mOSError\u001b[39;00m, \u001b[38;5;167;01mValueError\u001b[39;00m):\n",
      "\u001b[1;31mFileNotFoundError\u001b[0m: [WinError 2] The system cannot find the file specified: 'C:\\\\Users\\\\STUDENTS/.netrc'",
      "\nDuring handling of the above exception, another exception occurred:\n",
      "\u001b[1;31mKeyboardInterrupt\u001b[0m                         Traceback (most recent call last)",
      "Cell \u001b[1;32mIn[9], line 4\u001b[0m\n\u001b[0;32m      1\u001b[0m \u001b[38;5;28;01mfor\u001b[39;00m page \u001b[38;5;129;01min\u001b[39;00m allPages:\n\u001b[0;32m      2\u001b[0m     url \u001b[38;5;241m=\u001b[39m page[\u001b[38;5;124m'\u001b[39m\u001b[38;5;124mhref\u001b[39m\u001b[38;5;124m'\u001b[39m]\n\u001b[1;32m----> 4\u001b[0m     res \u001b[38;5;241m=\u001b[39m \u001b[43mrequests\u001b[49m\u001b[38;5;241;43m.\u001b[39;49m\u001b[43mget\u001b[49m\u001b[43m(\u001b[49m\u001b[43murl\u001b[49m\u001b[43m)\u001b[49m\n\u001b[0;32m      5\u001b[0m     soup \u001b[38;5;241m=\u001b[39m BeautifulSoup(res\u001b[38;5;241m.\u001b[39mtext, \u001b[38;5;124m\"\u001b[39m\u001b[38;5;124mhtml.parser\u001b[39m\u001b[38;5;124m\"\u001b[39m)\n\u001b[0;32m      6\u001b[0m     \u001b[38;5;28;01mtry\u001b[39;00m:\n",
      "File \u001b[1;32mC:\\ProgramData\\anaconda3\\lib\\site-packages\\requests\\api.py:73\u001b[0m, in \u001b[0;36mget\u001b[1;34m(url, params, **kwargs)\u001b[0m\n\u001b[0;32m     62\u001b[0m \u001b[38;5;28;01mdef\u001b[39;00m \u001b[38;5;21mget\u001b[39m(url, params\u001b[38;5;241m=\u001b[39m\u001b[38;5;28;01mNone\u001b[39;00m, \u001b[38;5;241m*\u001b[39m\u001b[38;5;241m*\u001b[39mkwargs):\n\u001b[0;32m     63\u001b[0m     \u001b[38;5;124mr\u001b[39m\u001b[38;5;124;03m\"\"\"Sends a GET request.\u001b[39;00m\n\u001b[0;32m     64\u001b[0m \n\u001b[0;32m     65\u001b[0m \u001b[38;5;124;03m    :param url: URL for the new :class:`Request` object.\u001b[39;00m\n\u001b[1;32m   (...)\u001b[0m\n\u001b[0;32m     70\u001b[0m \u001b[38;5;124;03m    :rtype: requests.Response\u001b[39;00m\n\u001b[0;32m     71\u001b[0m \u001b[38;5;124;03m    \"\"\"\u001b[39;00m\n\u001b[1;32m---> 73\u001b[0m     \u001b[38;5;28;01mreturn\u001b[39;00m request(\u001b[38;5;124m\"\u001b[39m\u001b[38;5;124mget\u001b[39m\u001b[38;5;124m\"\u001b[39m, url, params\u001b[38;5;241m=\u001b[39mparams, \u001b[38;5;241m*\u001b[39m\u001b[38;5;241m*\u001b[39mkwargs)\n",
      "File \u001b[1;32mC:\\ProgramData\\anaconda3\\lib\\site-packages\\requests\\api.py:59\u001b[0m, in \u001b[0;36mrequest\u001b[1;34m(method, url, **kwargs)\u001b[0m\n\u001b[0;32m     55\u001b[0m \u001b[38;5;66;03m# By using the 'with' statement we are sure the session is closed, thus we\u001b[39;00m\n\u001b[0;32m     56\u001b[0m \u001b[38;5;66;03m# avoid leaving sockets open which can trigger a ResourceWarning in some\u001b[39;00m\n\u001b[0;32m     57\u001b[0m \u001b[38;5;66;03m# cases, and look like a memory leak in others.\u001b[39;00m\n\u001b[0;32m     58\u001b[0m \u001b[38;5;28;01mwith\u001b[39;00m sessions\u001b[38;5;241m.\u001b[39mSession() \u001b[38;5;28;01mas\u001b[39;00m session:\n\u001b[1;32m---> 59\u001b[0m     \u001b[38;5;28;01mreturn\u001b[39;00m session\u001b[38;5;241m.\u001b[39mrequest(method\u001b[38;5;241m=\u001b[39mmethod, url\u001b[38;5;241m=\u001b[39murl, \u001b[38;5;241m*\u001b[39m\u001b[38;5;241m*\u001b[39mkwargs)\n",
      "File \u001b[1;32mC:\\ProgramData\\anaconda3\\lib\\site-packages\\requests\\sessions.py:573\u001b[0m, in \u001b[0;36mSession.request\u001b[1;34m(self, method, url, params, data, headers, cookies, files, auth, timeout, allow_redirects, proxies, hooks, stream, verify, cert, json)\u001b[0m\n\u001b[0;32m    560\u001b[0m \u001b[38;5;66;03m# Create the Request.\u001b[39;00m\n\u001b[0;32m    561\u001b[0m req \u001b[38;5;241m=\u001b[39m Request(\n\u001b[0;32m    562\u001b[0m     method\u001b[38;5;241m=\u001b[39mmethod\u001b[38;5;241m.\u001b[39mupper(),\n\u001b[0;32m    563\u001b[0m     url\u001b[38;5;241m=\u001b[39murl,\n\u001b[1;32m   (...)\u001b[0m\n\u001b[0;32m    571\u001b[0m     hooks\u001b[38;5;241m=\u001b[39mhooks,\n\u001b[0;32m    572\u001b[0m )\n\u001b[1;32m--> 573\u001b[0m prep \u001b[38;5;241m=\u001b[39m \u001b[38;5;28;43mself\u001b[39;49m\u001b[38;5;241;43m.\u001b[39;49m\u001b[43mprepare_request\u001b[49m\u001b[43m(\u001b[49m\u001b[43mreq\u001b[49m\u001b[43m)\u001b[49m\n\u001b[0;32m    575\u001b[0m proxies \u001b[38;5;241m=\u001b[39m proxies \u001b[38;5;129;01mor\u001b[39;00m {}\n\u001b[0;32m    577\u001b[0m settings \u001b[38;5;241m=\u001b[39m \u001b[38;5;28mself\u001b[39m\u001b[38;5;241m.\u001b[39mmerge_environment_settings(\n\u001b[0;32m    578\u001b[0m     prep\u001b[38;5;241m.\u001b[39murl, proxies, stream, verify, cert\n\u001b[0;32m    579\u001b[0m )\n",
      "File \u001b[1;32mC:\\ProgramData\\anaconda3\\lib\\site-packages\\requests\\sessions.py:481\u001b[0m, in \u001b[0;36mSession.prepare_request\u001b[1;34m(self, request)\u001b[0m\n\u001b[0;32m    479\u001b[0m auth \u001b[38;5;241m=\u001b[39m request\u001b[38;5;241m.\u001b[39mauth\n\u001b[0;32m    480\u001b[0m \u001b[38;5;28;01mif\u001b[39;00m \u001b[38;5;28mself\u001b[39m\u001b[38;5;241m.\u001b[39mtrust_env \u001b[38;5;129;01mand\u001b[39;00m \u001b[38;5;129;01mnot\u001b[39;00m auth \u001b[38;5;129;01mand\u001b[39;00m \u001b[38;5;129;01mnot\u001b[39;00m \u001b[38;5;28mself\u001b[39m\u001b[38;5;241m.\u001b[39mauth:\n\u001b[1;32m--> 481\u001b[0m     auth \u001b[38;5;241m=\u001b[39m \u001b[43mget_netrc_auth\u001b[49m\u001b[43m(\u001b[49m\u001b[43mrequest\u001b[49m\u001b[38;5;241;43m.\u001b[39;49m\u001b[43murl\u001b[49m\u001b[43m)\u001b[49m\n\u001b[0;32m    483\u001b[0m p \u001b[38;5;241m=\u001b[39m PreparedRequest()\n\u001b[0;32m    484\u001b[0m p\u001b[38;5;241m.\u001b[39mprepare(\n\u001b[0;32m    485\u001b[0m     method\u001b[38;5;241m=\u001b[39mrequest\u001b[38;5;241m.\u001b[39mmethod\u001b[38;5;241m.\u001b[39mupper(),\n\u001b[0;32m    486\u001b[0m     url\u001b[38;5;241m=\u001b[39mrequest\u001b[38;5;241m.\u001b[39murl,\n\u001b[1;32m   (...)\u001b[0m\n\u001b[0;32m    496\u001b[0m     hooks\u001b[38;5;241m=\u001b[39mmerge_hooks(request\u001b[38;5;241m.\u001b[39mhooks, \u001b[38;5;28mself\u001b[39m\u001b[38;5;241m.\u001b[39mhooks),\n\u001b[0;32m    497\u001b[0m )\n",
      "File \u001b[1;32mC:\\ProgramData\\anaconda3\\lib\\site-packages\\requests\\utils.py:217\u001b[0m, in \u001b[0;36mget_netrc_auth\u001b[1;34m(url, raise_errors)\u001b[0m\n\u001b[0;32m    211\u001b[0m \u001b[38;5;28;01mexcept\u001b[39;00m \u001b[38;5;167;01mKeyError\u001b[39;00m:\n\u001b[0;32m    212\u001b[0m     \u001b[38;5;66;03m# os.path.expanduser can fail when $HOME is undefined and\u001b[39;00m\n\u001b[0;32m    213\u001b[0m     \u001b[38;5;66;03m# getpwuid fails. See https://bugs.python.org/issue20164 &\u001b[39;00m\n\u001b[0;32m    214\u001b[0m     \u001b[38;5;66;03m# https://github.com/psf/requests/issues/1846\u001b[39;00m\n\u001b[0;32m    215\u001b[0m     \u001b[38;5;28;01mreturn\u001b[39;00m\n\u001b[1;32m--> 217\u001b[0m \u001b[38;5;28;01mif\u001b[39;00m \u001b[43mos\u001b[49m\u001b[38;5;241;43m.\u001b[39;49m\u001b[43mpath\u001b[49m\u001b[38;5;241;43m.\u001b[39;49m\u001b[43mexists\u001b[49m\u001b[43m(\u001b[49m\u001b[43mloc\u001b[49m\u001b[43m)\u001b[49m:\n\u001b[0;32m    218\u001b[0m     netrc_path \u001b[38;5;241m=\u001b[39m loc\n\u001b[0;32m    219\u001b[0m     \u001b[38;5;28;01mbreak\u001b[39;00m\n",
      "File \u001b[1;32mC:\\ProgramData\\anaconda3\\lib\\genericpath.py:19\u001b[0m, in \u001b[0;36mexists\u001b[1;34m(path)\u001b[0m\n\u001b[0;32m     17\u001b[0m \u001b[38;5;124;03m\"\"\"Test whether a path exists.  Returns False for broken symbolic links\"\"\"\u001b[39;00m\n\u001b[0;32m     18\u001b[0m \u001b[38;5;28;01mtry\u001b[39;00m:\n\u001b[1;32m---> 19\u001b[0m     \u001b[43mos\u001b[49m\u001b[38;5;241;43m.\u001b[39;49m\u001b[43mstat\u001b[49m\u001b[43m(\u001b[49m\u001b[43mpath\u001b[49m\u001b[43m)\u001b[49m\n\u001b[0;32m     20\u001b[0m \u001b[38;5;28;01mexcept\u001b[39;00m (\u001b[38;5;167;01mOSError\u001b[39;00m, \u001b[38;5;167;01mValueError\u001b[39;00m):\n\u001b[0;32m     21\u001b[0m     \u001b[38;5;28;01mreturn\u001b[39;00m \u001b[38;5;28;01mFalse\u001b[39;00m\n",
      "\u001b[1;31mKeyboardInterrupt\u001b[0m: "
     ]
    }
   ],
   "source": [
    "for page in allPages:\n",
    "    url = page['href']\n",
    "    \n",
    "    res = requests.get(url)\n",
    "    soup = BeautifulSoup(res.text, \"html.parser\")\n",
    "    try:\n",
    "        name = soup.find(\"h1\", {\"id\" : \"pdp_product_title\"}).text\n",
    "    \n",
    "    except:\n",
    "        name = \"\"\n",
    "    \n",
    "    try:\n",
    "        price = soup.find(\"div\", {\"data-test\" : \"product-price\"}).text\n",
    "    \n",
    "    except:\n",
    "        price = \"\"\n",
    "        \n",
    "\n",
    "    data = {\n",
    "        \"product link\" : url,\n",
    "        \"name\" : name,\n",
    "        \"price\" : price,\n",
    "    }\n",
    "    \n",
    "    print(data)"
   ]
  },
  {
   "cell_type": "code",
   "execution_count": null,
   "id": "a6d5cb33",
   "metadata": {},
   "outputs": [],
   "source": []
  }
 ],
 "metadata": {
  "kernelspec": {
   "display_name": "Python 3 (ipykernel)",
   "language": "python",
   "name": "python3"
  },
  "language_info": {
   "codemirror_mode": {
    "name": "ipython",
    "version": 3
   },
   "file_extension": ".py",
   "mimetype": "text/x-python",
   "name": "python",
   "nbconvert_exporter": "python",
   "pygments_lexer": "ipython3",
   "version": "3.10.9"
  }
 },
 "nbformat": 4,
 "nbformat_minor": 5
}
