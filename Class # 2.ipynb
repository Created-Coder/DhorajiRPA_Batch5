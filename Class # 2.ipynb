{
 "cells": [
  {
   "cell_type": "code",
   "execution_count": 16,
   "id": "a3201aed",
   "metadata": {},
   "outputs": [],
   "source": [
    "species = \"cow\""
   ]
  },
  {
   "cell_type": "code",
   "execution_count": 17,
   "id": "6d485c90",
   "metadata": {},
   "outputs": [
    {
     "name": "stdout",
     "output_type": "stream",
     "text": [
      "Yes the species is cow\n"
     ]
    }
   ],
   "source": [
    "if species == \"cat\":\n",
    "    print(\"Yes the species is cat\")\n",
    "    \n",
    "elif species == \"dog\":\n",
    "    print(\"Yes the species is dog\")\n",
    "    \n",
    "elif species == \"cow\":\n",
    "    print(\"Yes the species is cow\")\n",
    "\n",
    "else:\n",
    "    print(\"Your species is not a cat or dog\")"
   ]
  },
  {
   "cell_type": "code",
   "execution_count": 18,
   "id": "4f5c583a",
   "metadata": {},
   "outputs": [],
   "source": [
    "# Age should be 18 or greater than 18\n",
    "# OR\n",
    "# Gender should be male\n",
    "\n",
    "# then eligible for the admission"
   ]
  },
  {
   "cell_type": "code",
   "execution_count": 19,
   "id": "86cf2a2a",
   "metadata": {},
   "outputs": [],
   "source": [
    "# == (Equals)\n",
    "# < (less than)\n",
    "# > (Greater than)\n",
    "# <= (Less than or equals to)\n",
    "# >= (Greater than or equals to) "
   ]
  },
  {
   "cell_type": "code",
   "execution_count": 43,
   "id": "b7acfe0a",
   "metadata": {},
   "outputs": [],
   "source": [
    "age = 16\n",
    "gender = \"Male\""
   ]
  },
  {
   "cell_type": "code",
   "execution_count": 31,
   "id": "f605636c",
   "metadata": {},
   "outputs": [
    {
     "name": "stdout",
     "output_type": "stream",
     "text": [
      "You are eligible because you of gender\n"
     ]
    }
   ],
   "source": [
    "if age >= 18:\n",
    "    print(\"You are eligible because you of age\")\n",
    "    \n",
    "elif gender == \"Male\":\n",
    "    print(\"You are eligible because you of gender\")\n",
    "    \n",
    "else:\n",
    "    print(\"You are not eligible\")"
   ]
  },
  {
   "cell_type": "code",
   "execution_count": 45,
   "id": "51d8301a",
   "metadata": {},
   "outputs": [
    {
     "name": "stdout",
     "output_type": "stream",
     "text": [
      "You are not eligible because of age\n"
     ]
    }
   ],
   "source": [
    "# Nested IF\n",
    "\n",
    "if age >= 18:\n",
    "    if gender == \"Male\":\n",
    "        print(\"You Are Eligible\")\n",
    "    \n",
    "    else:\n",
    "        print(\"You are not eligible because of gender\")\n",
    "\n",
    "else:\n",
    "    print(\"You are not eligible because of age\")"
   ]
  },
  {
   "cell_type": "code",
   "execution_count": 34,
   "id": "8bcecdec",
   "metadata": {},
   "outputs": [
    {
     "name": "stdout",
     "output_type": "stream",
     "text": [
      "You are eligible\n"
     ]
    }
   ],
   "source": [
    "if age >= 18 and gender == \"Male\":\n",
    "    print(\"You are eligible\")\n",
    "    \n",
    "else:\n",
    "    print(\"You are not eligible\")"
   ]
  },
  {
   "cell_type": "code",
   "execution_count": 37,
   "id": "013b4810",
   "metadata": {},
   "outputs": [
    {
     "name": "stdout",
     "output_type": "stream",
     "text": [
      "You are eligible\n"
     ]
    }
   ],
   "source": [
    "if age >= 18 or gender == \"Male\":\n",
    "    print(\"You are eligible\")\n",
    "    \n",
    "else:\n",
    "    print(\"You are not eligible\")"
   ]
  },
  {
   "cell_type": "code",
   "execution_count": null,
   "id": "7015e0eb",
   "metadata": {},
   "outputs": [],
   "source": []
  }
 ],
 "metadata": {
  "kernelspec": {
   "display_name": "Python 3 (ipykernel)",
   "language": "python",
   "name": "python3"
  },
  "language_info": {
   "codemirror_mode": {
    "name": "ipython",
    "version": 3
   },
   "file_extension": ".py",
   "mimetype": "text/x-python",
   "name": "python",
   "nbconvert_exporter": "python",
   "pygments_lexer": "ipython3",
   "version": "3.10.9"
  }
 },
 "nbformat": 4,
 "nbformat_minor": 5
}
