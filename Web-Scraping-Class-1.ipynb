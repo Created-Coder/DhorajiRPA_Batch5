{
 "cells": [
  {
   "cell_type": "code",
   "execution_count": 7,
   "id": "b66b7db1",
   "metadata": {},
   "outputs": [],
   "source": [
    "import requests\n",
    "from bs4 import BeautifulSoup as bs"
   ]
  },
  {
   "cell_type": "code",
   "execution_count": 3,
   "id": "7d8c4baa",
   "metadata": {},
   "outputs": [],
   "source": [
    "res = requests.get(\"http://help.websiteos.com/websiteos/example_of_a_simple_html_page.htm\")"
   ]
  },
  {
   "cell_type": "code",
   "execution_count": 10,
   "id": "bc06b914",
   "metadata": {},
   "outputs": [],
   "source": [
    "soup = bs(res.text, \"html.parser\")"
   ]
  },
  {
   "cell_type": "code",
   "execution_count": 24,
   "id": "502cf22c",
   "metadata": {},
   "outputs": [
    {
     "data": {
      "text/plain": [
       "<h1>Example of a simple HTML page</h1>"
      ]
     },
     "execution_count": 24,
     "metadata": {},
     "output_type": "execute_result"
    }
   ],
   "source": [
    "soup.h1\n"
   ]
  },
  {
   "cell_type": "code",
   "execution_count": 30,
   "id": "05b7e92d",
   "metadata": {},
   "outputs": [
    {
     "data": {
      "text/plain": [
       "'Example of a simple HTML page'"
      ]
     },
     "execution_count": 30,
     "metadata": {},
     "output_type": "execute_result"
    }
   ],
   "source": [
    "soup.h1.text"
   ]
  },
  {
   "cell_type": "code",
   "execution_count": 29,
   "id": "befb5d1f",
   "metadata": {},
   "outputs": [
    {
     "data": {
      "text/plain": [
       "'Example of a simple HTML page'"
      ]
     },
     "execution_count": 29,
     "metadata": {},
     "output_type": "execute_result"
    }
   ],
   "source": [
    "soup.h1.get_text()"
   ]
  },
  {
   "cell_type": "code",
   "execution_count": 31,
   "id": "ae92cd0b",
   "metadata": {},
   "outputs": [],
   "source": [
    "# .find()"
   ]
  },
  {
   "cell_type": "code",
   "execution_count": 36,
   "id": "20f244e6",
   "metadata": {},
   "outputs": [
    {
     "data": {
      "text/plain": [
       "<p class=\"whs2\">&lt;HTML&gt; </p>"
      ]
     },
     "execution_count": 36,
     "metadata": {},
     "output_type": "execute_result"
    }
   ],
   "source": [
    "soup.find(\"p\", {'class' : 'whs2'})"
   ]
  },
  {
   "cell_type": "code",
   "execution_count": 37,
   "id": "b182e5b6",
   "metadata": {},
   "outputs": [],
   "source": [
    "# .find_all()"
   ]
  },
  {
   "cell_type": "code",
   "execution_count": 40,
   "id": "c6bb3610",
   "metadata": {},
   "outputs": [
    {
     "data": {
      "text/plain": [
       "[<p>Hypertext Markup Language (HTML) is the most common language used to \n",
       "  create documents on the World Wide Web. HTML uses hundreds of different \n",
       "  tags to define a layout for web pages. Most tags require an opening &lt;tag&gt; \n",
       "  and a closing &lt;/tag&gt;.</p>,\n",
       " <p><span style=\"font-weight: bold;\"><b>Example:</b></span>  &lt;b&gt;On \n",
       "  a webpage, this sentence would be in bold print.&lt;/b&gt; </p>,\n",
       " <p>Below is an example of a very simple page: </p>,\n",
       " <p><img border=\"0\" class=\"img_whs1\" height=\"295px\" src=\"htmlpage.jpg\" width=\"301px\" x-maintain-ratio=\"TRUE\"/></p>,\n",
       " <p> This \n",
       "  is the code used to make the page: </p>,\n",
       " <p class=\"whs2\">&lt;HTML&gt; </p>,\n",
       " <p class=\"whs2\">&lt;HEAD&gt; </p>,\n",
       " <p class=\"whs2\">&lt;TITLE&gt;Your Title Here&lt;/TITLE&gt; \n",
       "  </p>,\n",
       " <p class=\"whs2\">&lt;/HEAD&gt; </p>,\n",
       " <p class=\"whs2\">&lt;BODY BGCOLOR=\"FFFFFF\"&gt; \n",
       "  </p>,\n",
       " <p class=\"whs2\">&lt;CENTER&gt;&lt;IMG SRC=\"clouds.jpg\" \n",
       "  ALIGN=\"BOTTOM\"&gt; &lt;/CENTER&gt; </p>,\n",
       " <p class=\"whs2\">&lt;HR&gt; </p>,\n",
       " <p class=\"whs2\">&lt;a href=\"http://somegreatsite.com\"&gt;Link \n",
       "  Name&lt;/a&gt; </p>,\n",
       " <p class=\"whs2\">is a link to another nifty site </p>,\n",
       " <p class=\"whs2\">&lt;H1&gt;This is a Header&lt;/H1&gt; </p>,\n",
       " <p class=\"whs2\">&lt;H2&gt;This is a Medium Header&lt;/H2&gt; \n",
       "  </p>,\n",
       " <p class=\"whs2\">Send me mail at &lt;a href=\"mailto:support@yourcompany.com\"&gt;</p>,\n",
       " <p class=\"whs2\">support@yourcompany.com&lt;/a&gt;. </p>,\n",
       " <p class=\"whs2\">&lt;P&gt; This is a new paragraph! </p>,\n",
       " <p class=\"whs2\">&lt;P&gt; &lt;B&gt;This is a new paragraph!&lt;/B&gt; \n",
       "  </p>,\n",
       " <p class=\"whs2\">&lt;BR&gt; &lt;B&gt;&lt;I&gt;This is a new \n",
       "  sentence without a paragraph break, in bold italics.&lt;/I&gt;&lt;/B&gt; \n",
       "  </p>,\n",
       " <p class=\"whs2\">&lt;HR&gt; </p>,\n",
       " <p class=\"whs2\">&lt;/BODY&gt; </p>,\n",
       " <p class=\"whs2\">&lt;/HTML&gt; </p>,\n",
       " <p class=\"whs2\"> </p>,\n",
       " <p class=\"whs2\"> </p>,\n",
       " <p class=\"whs3\"> </p>]"
      ]
     },
     "execution_count": 40,
     "metadata": {},
     "output_type": "execute_result"
    }
   ],
   "source": [
    "soup.find_all(\"p\")"
   ]
  },
  {
   "cell_type": "code",
   "execution_count": 50,
   "id": "621903cf",
   "metadata": {},
   "outputs": [
    {
     "data": {
      "text/plain": [
       "[<p class=\"whs2\">&lt;HTML&gt; </p>,\n",
       " <p class=\"whs2\">&lt;HEAD&gt; </p>,\n",
       " <p class=\"whs2\">&lt;TITLE&gt;Your Title Here&lt;/TITLE&gt; \n",
       "  </p>,\n",
       " <p class=\"whs2\">&lt;/HEAD&gt; </p>,\n",
       " <p class=\"whs2\">&lt;BODY BGCOLOR=\"FFFFFF\"&gt; \n",
       "  </p>,\n",
       " <p class=\"whs2\">&lt;CENTER&gt;&lt;IMG SRC=\"clouds.jpg\" \n",
       "  ALIGN=\"BOTTOM\"&gt; &lt;/CENTER&gt; </p>,\n",
       " <p class=\"whs2\">&lt;HR&gt; </p>,\n",
       " <p class=\"whs2\">&lt;a href=\"http://somegreatsite.com\"&gt;Link \n",
       "  Name&lt;/a&gt; </p>,\n",
       " <p class=\"whs2\">is a link to another nifty site </p>,\n",
       " <p class=\"whs2\">&lt;H1&gt;This is a Header&lt;/H1&gt; </p>,\n",
       " <p class=\"whs2\">&lt;H2&gt;This is a Medium Header&lt;/H2&gt; \n",
       "  </p>,\n",
       " <p class=\"whs2\">Send me mail at &lt;a href=\"mailto:support@yourcompany.com\"&gt;</p>,\n",
       " <p class=\"whs2\">support@yourcompany.com&lt;/a&gt;. </p>,\n",
       " <p class=\"whs2\">&lt;P&gt; This is a new paragraph! </p>,\n",
       " <p class=\"whs2\">&lt;P&gt; &lt;B&gt;This is a new paragraph!&lt;/B&gt; \n",
       "  </p>,\n",
       " <p class=\"whs2\">&lt;BR&gt; &lt;B&gt;&lt;I&gt;This is a new \n",
       "  sentence without a paragraph break, in bold italics.&lt;/I&gt;&lt;/B&gt; \n",
       "  </p>,\n",
       " <p class=\"whs2\">&lt;HR&gt; </p>,\n",
       " <p class=\"whs2\">&lt;/BODY&gt; </p>,\n",
       " <p class=\"whs2\">&lt;/HTML&gt; </p>,\n",
       " <p class=\"whs2\"> </p>,\n",
       " <p class=\"whs2\"> </p>]"
      ]
     },
     "execution_count": 50,
     "metadata": {},
     "output_type": "execute_result"
    }
   ],
   "source": [
    "soup.find_all(\"p\", {'class' : 'whs2'})"
   ]
  },
  {
   "cell_type": "code",
   "execution_count": 51,
   "id": "00a2e2ff",
   "metadata": {},
   "outputs": [],
   "source": [
    "res = requests.get(\"https://www.nike.com/w/mens-clothing-6ymx6znik1\")"
   ]
  },
  {
   "cell_type": "code",
   "execution_count": 52,
   "id": "ccc7000c",
   "metadata": {},
   "outputs": [],
   "source": [
    "soup = bs(res.text, \"html.parser\")"
   ]
  },
  {
   "cell_type": "code",
   "execution_count": 58,
   "id": "54388828",
   "metadata": {},
   "outputs": [],
   "source": [
    "allProducts = soup.find_all(\"a\", {\"data-testid\" : \"product-card__link-overlay\"})"
   ]
  },
  {
   "cell_type": "code",
   "execution_count": 61,
   "id": "99d6b68e",
   "metadata": {},
   "outputs": [
    {
     "name": "stdout",
     "output_type": "stream",
     "text": [
      "Nike Sportswear Tech Fleece Windrunner\n",
      "====================\n",
      "Nike Sportswear Tech Fleece\n",
      "====================\n",
      "Nike Sportswear Tech Fleece\n",
      "====================\n",
      "Nike Sportswear Tech Fleece\n",
      "====================\n",
      "Nike Primary\n",
      "====================\n",
      "Nike Unlimited\n",
      "====================\n",
      "Nike Primary\n",
      "====================\n",
      "Nike Form\n",
      "====================\n",
      "Nike Sportswear Tech Fleece\n",
      "====================\n",
      "Nike Sportswear Tech Fleece\n",
      "====================\n",
      "Nike Sportswear Tech Fleece\n",
      "====================\n",
      "Nike Sportswear Tech Fleece\n",
      "====================\n",
      "Nike Sportswear Tech Fleece\n",
      "====================\n",
      "Nike Sportswear Premium Essentials\n",
      "====================\n",
      "Nike Sportswear Club Fleece\n",
      "====================\n",
      "Nike Sportswear Club Fleece\n",
      "====================\n",
      "Giannis\n",
      "====================\n",
      "Giannis Standard Issue\n",
      "====================\n",
      "Giannis Standard Issue\n",
      "====================\n",
      "Giannis Standard Issue\n",
      "====================\n",
      "Nike Sportswear Club Fleece\n",
      "====================\n",
      "Nike Sportswear Club Fleece\n",
      "====================\n",
      "Nike Sportswear Club Fleece\n",
      "====================\n",
      "Nike Sportswear Club Fleece\n",
      "====================\n"
     ]
    }
   ],
   "source": [
    "for product in allProducts:\n",
    "    print(product.text)\n",
    "    print(\"====================\")"
   ]
  },
  {
   "cell_type": "code",
   "execution_count": null,
   "id": "e66d1870",
   "metadata": {},
   "outputs": [],
   "source": [
    "# how to get attribute of an element\n",
    "# tagname['attribute name']\n",
    "\n",
    "# How to get a single element\n",
    "# .find \n",
    "\n",
    "# How to get a list of elements\n",
    "# .find_all\n",
    "\n",
    "# How to get specific element/elements\n",
    "# .find/findall('tagName', {'attributeName' : 'attributeValue'})\n",
    "\n",
    "# How to get text from elemnet\n",
    "#.text\n",
    "# .get_text()"
   ]
  }
 ],
 "metadata": {
  "kernelspec": {
   "display_name": "Python 3 (ipykernel)",
   "language": "python",
   "name": "python3"
  },
  "language_info": {
   "codemirror_mode": {
    "name": "ipython",
    "version": 3
   },
   "file_extension": ".py",
   "mimetype": "text/x-python",
   "name": "python",
   "nbconvert_exporter": "python",
   "pygments_lexer": "ipython3",
   "version": "3.10.9"
  }
 },
 "nbformat": 4,
 "nbformat_minor": 5
}
