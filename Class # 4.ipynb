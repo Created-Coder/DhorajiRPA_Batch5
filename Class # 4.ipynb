{
 "cells": [
  {
   "cell_type": "code",
   "execution_count": null,
   "id": "8a0d1cea",
   "metadata": {},
   "outputs": [],
   "source": [
    "# Loops"
   ]
  },
  {
   "cell_type": "code",
   "execution_count": null,
   "id": "08fba23b",
   "metadata": {},
   "outputs": [],
   "source": [
    "# For Loop\n",
    "# While Loop"
   ]
  },
  {
   "cell_type": "code",
   "execution_count": null,
   "id": "b1827df9",
   "metadata": {},
   "outputs": [],
   "source": [
    "cities = [\"Karachi\", \"Lahore\", \"Rawalpindi\", \"Islamabad\"]"
   ]
  },
  {
   "cell_type": "code",
   "execution_count": null,
   "id": "d2358101",
   "metadata": {},
   "outputs": [],
   "source": [
    "for element in cities:\n",
    "    print(element)\n",
    "    print(\"-----------------------\")"
   ]
  },
  {
   "cell_type": "code",
   "execution_count": null,
   "id": "95901549",
   "metadata": {},
   "outputs": [],
   "source": [
    "for i in range(1, 100):\n",
    "    print(i)"
   ]
  },
  {
   "cell_type": "code",
   "execution_count": null,
   "id": "09050298",
   "metadata": {},
   "outputs": [],
   "source": [
    "# Example"
   ]
  },
  {
   "cell_type": "code",
   "execution_count": null,
   "id": "679571cc",
   "metadata": {},
   "outputs": [],
   "source": [
    "cleanist_city = \"Islamabad\""
   ]
  },
  {
   "cell_type": "code",
   "execution_count": null,
   "id": "c97af3af",
   "metadata": {},
   "outputs": [],
   "source": [
    "for city in cities:\n",
    "    if cleanist_city == city:\n",
    "        print(\"Yes the cleanist city is \", city)\n",
    "        \n",
    "    else:\n",
    "        print(\"No this city is not cleanist \", city)"
   ]
  },
  {
   "cell_type": "code",
   "execution_count": null,
   "id": "a6c51577",
   "metadata": {},
   "outputs": [],
   "source": [
    "for city in cities:\n",
    "    if cleanist_city == city:\n",
    "        print(\"Yes the cleanist city is \", city)\n",
    "        \n",
    "    else:\n",
    "        print(\"No this city is not cleanist \", city)"
   ]
  },
  {
   "cell_type": "code",
   "execution_count": null,
   "id": "44d9d292",
   "metadata": {},
   "outputs": [],
   "source": [
    "# Nested For Loops"
   ]
  },
  {
   "cell_type": "code",
   "execution_count": null,
   "id": "0891be6b",
   "metadata": {},
   "outputs": [],
   "source": [
    "firstAlphabets = ['a', 'b', 'c']\n",
    "lastAlphabets = ['x', 'y', 'z']\n",
    "numbers = [1, 2, 3]"
   ]
  },
  {
   "cell_type": "code",
   "execution_count": null,
   "id": "cccac0bd",
   "metadata": {},
   "outputs": [],
   "source": [
    "for firstLetters in firstAlphabets:\n",
    "    # a, b, c\n",
    "    for lastLetters in lastAlphabets:\n",
    "        # x, y, z\n",
    "        for num in numbers:\n",
    "            print(firstLetters, lastLetters, num)"
   ]
  },
  {
   "cell_type": "code",
   "execution_count": null,
   "id": "7bef2c58",
   "metadata": {},
   "outputs": [],
   "source": [
    "# While Loops"
   ]
  },
  {
   "cell_type": "code",
   "execution_count": null,
   "id": "600b36ea",
   "metadata": {},
   "outputs": [],
   "source": [
    "num = 0"
   ]
  },
  {
   "cell_type": "code",
   "execution_count": null,
   "id": "da85e724",
   "metadata": {},
   "outputs": [],
   "source": [
    "while True:\n",
    "    print(num)\n",
    "    num = num + 1\n",
    "    \n",
    "    if num > 10:\n",
    "        break\n",
    "        \n",
    "    "
   ]
  },
  {
   "cell_type": "code",
   "execution_count": 15,
   "id": "7be10b88",
   "metadata": {},
   "outputs": [],
   "source": [
    "days = ['Monday', 'Tuesday', 'Wednesday', 'Thursday', 'Friday', 'Saturday', 'Sunday']"
   ]
  },
  {
   "cell_type": "code",
   "execution_count": 17,
   "id": "02b1a430",
   "metadata": {},
   "outputs": [
    {
     "name": "stdout",
     "output_type": "stream",
     "text": [
      "Go for Work, It's a Monday\n",
      "Go for Work, It's a Tuesday\n",
      "Go for Work, It's a Wednesday\n",
      "Go for Work, It's a Thursday\n",
      "Go for Work, It's a Friday\n",
      "Enjoy, It's a Saturday\n",
      "Enjoy, It's a Sunday\n"
     ]
    }
   ],
   "source": [
    "num = 0\n",
    "while True:\n",
    "    if num == len(days):\n",
    "        break\n",
    "        \n",
    "    if days[num] == \"Saturday\" or days[num] == \"Sunday\":\n",
    "        print(\"Enjoy, It's a\", days[num])\n",
    "\n",
    "    else:\n",
    "        print(\"Go for Work, It's a\", days[num])\n",
    "\n",
    "    num = num + 1"
   ]
  },
  {
   "cell_type": "code",
   "execution_count": 19,
   "id": "971c758e",
   "metadata": {},
   "outputs": [],
   "source": [
    "# User Input"
   ]
  },
  {
   "cell_type": "code",
   "execution_count": 24,
   "id": "700314fd",
   "metadata": {},
   "outputs": [
    {
     "name": "stdout",
     "output_type": "stream",
     "text": [
      "Enter the Name : Salman\n"
     ]
    }
   ],
   "source": [
    "name = input(\"Enter the Name : \")"
   ]
  },
  {
   "cell_type": "code",
   "execution_count": 25,
   "id": "2103df79",
   "metadata": {},
   "outputs": [
    {
     "data": {
      "text/plain": [
       "'Salman'"
      ]
     },
     "execution_count": 25,
     "metadata": {},
     "output_type": "execute_result"
    }
   ],
   "source": [
    "name"
   ]
  },
  {
   "cell_type": "code",
   "execution_count": 28,
   "id": "a176bf78",
   "metadata": {},
   "outputs": [
    {
     "name": "stdout",
     "output_type": "stream",
     "text": [
      "Enter you age : 10\n"
     ]
    }
   ],
   "source": [
    "age = int(input(\"Enter you age : \"))"
   ]
  },
  {
   "cell_type": "code",
   "execution_count": 30,
   "id": "e6bf4baf",
   "metadata": {},
   "outputs": [],
   "source": [
    "# Setting the flag "
   ]
  },
  {
   "cell_type": "code",
   "execution_count": 39,
   "id": "27e4289c",
   "metadata": {},
   "outputs": [],
   "source": [
    "flag = True"
   ]
  },
  {
   "cell_type": "code",
   "execution_count": 40,
   "id": "50ae1129",
   "metadata": {},
   "outputs": [
    {
     "name": "stdout",
     "output_type": "stream",
     "text": [
      "Enter the Character : a\n",
      "a\n",
      "Enter the Character : b\n",
      "b\n",
      "Enter the Character : c\n",
      "c\n",
      "Enter the Character : d\n",
      "d\n",
      "Enter the Character : e\n",
      "e\n",
      "Enter the Character : q\n",
      "q\n"
     ]
    }
   ],
   "source": [
    "while flag:\n",
    "    char = input(\"Enter the Character : \")\n",
    "    print(char)\n",
    "    \n",
    "    if char == \"q\":\n",
    "        flag = False"
   ]
  },
  {
   "cell_type": "code",
   "execution_count": 41,
   "id": "96e413cd",
   "metadata": {},
   "outputs": [],
   "source": [
    "# Functions"
   ]
  },
  {
   "cell_type": "code",
   "execution_count": 42,
   "id": "fb78aae0",
   "metadata": {},
   "outputs": [
    {
     "name": "stdout",
     "output_type": "stream",
     "text": [
      "6\n"
     ]
    }
   ],
   "source": [
    "num1 = 2\n",
    "num2 = 4\n",
    "total = num1 + num2\n",
    "print(total)"
   ]
  },
  {
   "cell_type": "code",
   "execution_count": 45,
   "id": "a8c4ae25",
   "metadata": {},
   "outputs": [],
   "source": [
    "def addition():\n",
    "    num1 = 4\n",
    "    num2 = 4\n",
    "    total = num1 + num2\n",
    "    print(total)"
   ]
  },
  {
   "cell_type": "code",
   "execution_count": 46,
   "id": "498658aa",
   "metadata": {},
   "outputs": [
    {
     "name": "stdout",
     "output_type": "stream",
     "text": [
      "8\n"
     ]
    }
   ],
   "source": [
    "addition()"
   ]
  },
  {
   "cell_type": "code",
   "execution_count": 47,
   "id": "bc7bcb9d",
   "metadata": {},
   "outputs": [],
   "source": [
    "# Arugments"
   ]
  },
  {
   "cell_type": "code",
   "execution_count": 48,
   "id": "f5c0a6ab",
   "metadata": {},
   "outputs": [],
   "source": [
    "def addition(num1, num2):\n",
    "    total = num1 + num2\n",
    "    print(total)"
   ]
  },
  {
   "cell_type": "code",
   "execution_count": 51,
   "id": "cd37da0b",
   "metadata": {},
   "outputs": [
    {
     "name": "stdout",
     "output_type": "stream",
     "text": [
      "26\n"
     ]
    }
   ],
   "source": [
    "addition(22, 4)"
   ]
  },
  {
   "cell_type": "code",
   "execution_count": 56,
   "id": "57611ba2",
   "metadata": {},
   "outputs": [],
   "source": [
    "def subtract(num1, num2):\n",
    "    total = num1 - num2\n",
    "    print(total)"
   ]
  },
  {
   "cell_type": "code",
   "execution_count": 62,
   "id": "0cbf5935",
   "metadata": {},
   "outputs": [],
   "source": [
    "# Positional Arguments"
   ]
  },
  {
   "cell_type": "code",
   "execution_count": 58,
   "id": "b7bb985b",
   "metadata": {},
   "outputs": [
    {
     "name": "stdout",
     "output_type": "stream",
     "text": [
      "6\n"
     ]
    }
   ],
   "source": [
    "subtract(12, 6)"
   ]
  },
  {
   "cell_type": "code",
   "execution_count": 59,
   "id": "d6ccc1ca",
   "metadata": {},
   "outputs": [],
   "source": [
    "# Keyword Arguments"
   ]
  },
  {
   "cell_type": "code",
   "execution_count": 61,
   "id": "33fb2c8c",
   "metadata": {},
   "outputs": [
    {
     "name": "stdout",
     "output_type": "stream",
     "text": [
      "6\n"
     ]
    }
   ],
   "source": [
    "subtract(num2 = 6, num1 = 12)"
   ]
  },
  {
   "cell_type": "code",
   "execution_count": 78,
   "id": "bd1b258f",
   "metadata": {},
   "outputs": [],
   "source": [
    "# Default Arguments"
   ]
  },
  {
   "cell_type": "code",
   "execution_count": 81,
   "id": "af2955eb",
   "metadata": {},
   "outputs": [],
   "source": [
    "def form(name, fathername, age = 24):\n",
    "    print(name, age, fathername)"
   ]
  },
  {
   "cell_type": "code",
   "execution_count": 80,
   "id": "15d1c1f5",
   "metadata": {},
   "outputs": [
    {
     "name": "stdout",
     "output_type": "stream",
     "text": [
      "abc 24 xyz\n"
     ]
    }
   ],
   "source": [
    "form(name = \"abc\", fathername = \"xyz\", age = 24)"
   ]
  },
  {
   "cell_type": "code",
   "execution_count": null,
   "id": "e3d285a5",
   "metadata": {},
   "outputs": [],
   "source": []
  }
 ],
 "metadata": {
  "kernelspec": {
   "display_name": "Python 3 (ipykernel)",
   "language": "python",
   "name": "python3"
  },
  "language_info": {
   "codemirror_mode": {
    "name": "ipython",
    "version": 3
   },
   "file_extension": ".py",
   "mimetype": "text/x-python",
   "name": "python",
   "nbconvert_exporter": "python",
   "pygments_lexer": "ipython3",
   "version": "3.10.9"
  }
 },
 "nbformat": 4,
 "nbformat_minor": 5
}
