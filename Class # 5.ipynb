{
 "cells": [
  {
   "cell_type": "code",
   "execution_count": 7,
   "id": "32c8bac7",
   "metadata": {},
   "outputs": [],
   "source": [
    "def calculator():\n",
    "    def add(num1, num2):\n",
    "        total = num1 + num2\n",
    "        print(total)\n",
    "        \n",
    "        \n",
    "    def sub(num1, num2):\n",
    "        total = num1 - num2\n",
    "        print(total)\n",
    "        \n",
    "    add(6 ,2)"
   ]
  },
  {
   "cell_type": "code",
   "execution_count": 9,
   "id": "7a90e189",
   "metadata": {},
   "outputs": [
    {
     "name": "stdout",
     "output_type": "stream",
     "text": [
      "8\n"
     ]
    }
   ],
   "source": [
    "calculator()"
   ]
  },
  {
   "cell_type": "code",
   "execution_count": 10,
   "id": "1d3234c2",
   "metadata": {},
   "outputs": [],
   "source": [
    "def mult(num1, num2):\n",
    "    total = num1 * num2\n",
    "    print(total)\n",
    "        \n",
    "        \n",
    "def divide(num1, num2):\n",
    "    total = num1 // num2\n",
    "    print(total)"
   ]
  },
  {
   "cell_type": "code",
   "execution_count": 13,
   "id": "a6afa37f",
   "metadata": {},
   "outputs": [],
   "source": [
    "def calculator():\n",
    "    mult(2, 2)"
   ]
  },
  {
   "cell_type": "code",
   "execution_count": 14,
   "id": "5b192e0d",
   "metadata": {},
   "outputs": [
    {
     "name": "stdout",
     "output_type": "stream",
     "text": [
      "4\n"
     ]
    }
   ],
   "source": [
    "calculator()"
   ]
  },
  {
   "cell_type": "code",
   "execution_count": 15,
   "id": "b4756223",
   "metadata": {},
   "outputs": [],
   "source": [
    "# data Files"
   ]
  },
  {
   "cell_type": "code",
   "execution_count": 35,
   "id": "b65723fe",
   "metadata": {},
   "outputs": [
    {
     "name": "stdout",
     "output_type": "stream",
     "text": [
      "Hello WorldHello WorldHello World \n",
      "Hello WorldHello WorldHello WorldHello WorldHello World\n",
      "Hello World\n",
      "\n"
     ]
    }
   ],
   "source": [
    "with open(\"test.txt\", \"r\") as f:\n",
    "    data = f.read()\n",
    "    print(data)"
   ]
  },
  {
   "cell_type": "code",
   "execution_count": 18,
   "id": "f0b2830f",
   "metadata": {},
   "outputs": [],
   "source": [
    "with open(\"test.txt\", \"w\") as f:\n",
    "    f.write(\"Hello World\")"
   ]
  },
  {
   "cell_type": "code",
   "execution_count": 34,
   "id": "84901807",
   "metadata": {},
   "outputs": [],
   "source": [
    "with open(\"test.txt\", \"a\") as f:\n",
    "    f.write(\"Hello World\\n\")"
   ]
  },
  {
   "cell_type": "code",
   "execution_count": 37,
   "id": "882d31c7",
   "metadata": {},
   "outputs": [],
   "source": [
    "# CSV Files"
   ]
  },
  {
   "cell_type": "code",
   "execution_count": 40,
   "id": "dafdfdfb",
   "metadata": {},
   "outputs": [],
   "source": [
    "import csv"
   ]
  },
  {
   "cell_type": "code",
   "execution_count": 38,
   "id": "ddf1bdcb",
   "metadata": {},
   "outputs": [],
   "source": [
    "dummyData = [1, 2, 3, 4, 5, 6, 7]"
   ]
  },
  {
   "cell_type": "code",
   "execution_count": 45,
   "id": "1039e1cd",
   "metadata": {},
   "outputs": [],
   "source": [
    "with open(\"test.csv\", \"a\") as f:\n",
    "    handler = csv.writer(f)\n",
    "    handler.writerow(dummyData)"
   ]
  },
  {
   "cell_type": "code",
   "execution_count": 49,
   "id": "2920be22",
   "metadata": {},
   "outputs": [
    {
     "name": "stdout",
     "output_type": "stream",
     "text": [
      "['1', '2', '3', '4', '5', '6', '7']\n",
      "[]\n"
     ]
    }
   ],
   "source": [
    "with open(\"test.csv\", \"r\") as f:\n",
    "    data = csv.reader(f)\n",
    "    for i in data:\n",
    "        print(i)"
   ]
  },
  {
   "cell_type": "code",
   "execution_count": 48,
   "id": "aeba844f",
   "metadata": {},
   "outputs": [],
   "source": [
    "with open(\"test.csv\", \"w\") as f:\n",
    "    handler = csv.writer(f)\n",
    "    handler.writerow(dummyData)"
   ]
  },
  {
   "cell_type": "code",
   "execution_count": 50,
   "id": "d3b8a3a2",
   "metadata": {},
   "outputs": [],
   "source": [
    "import json"
   ]
  },
  {
   "cell_type": "code",
   "execution_count": 51,
   "id": "02552646",
   "metadata": {},
   "outputs": [],
   "source": [
    "dummyDict = {\n",
    "    \"name\" : \"Salman\",\n",
    "    \"class\" : \"10th\"\n",
    "}"
   ]
  },
  {
   "cell_type": "code",
   "execution_count": 52,
   "id": "fbce18be",
   "metadata": {},
   "outputs": [],
   "source": [
    "with open(\"test.json\", \"w\") as f:\n",
    "    json.dump(dummyDict, f)"
   ]
  },
  {
   "cell_type": "code",
   "execution_count": 54,
   "id": "f38370ef",
   "metadata": {},
   "outputs": [],
   "source": [
    "with open(\"test.json\", \"a\") as f:\n",
    "    json.dump(dummyDict, f)"
   ]
  },
  {
   "cell_type": "code",
   "execution_count": 58,
   "id": "a95b025a",
   "metadata": {},
   "outputs": [
    {
     "name": "stdout",
     "output_type": "stream",
     "text": [
      "[{'name': 'Salman', 'class': '10th'}, {'name': 'Salman', 'class': '10th'}, {'name': 'Salman', 'class': '10th'}]\n"
     ]
    }
   ],
   "source": [
    "with open(\"test.json\", \"r\") as f:\n",
    "    data = json.load(f)\n",
    "    print(data)"
   ]
  },
  {
   "cell_type": "code",
   "execution_count": 77,
   "id": "bc911569",
   "metadata": {},
   "outputs": [
    {
     "name": "stdout",
     "output_type": "stream",
     "text": [
      "Please enter the file name : abc.txt\n",
      "This file not exists\n",
      "Class $ \n"
     ]
    }
   ],
   "source": [
    "try:\n",
    "    filename = input(\"Please enter the file name : \")\n",
    "    \n",
    "    myname = \"salman\"\n",
    "    myname = int(myname)\n",
    "    \n",
    "    with open(filename, \"r\") as f:\n",
    "        data = f.read()\n",
    "        print(data)\n",
    "        \n",
    "except (FileNotFoundError, ValueError):\n",
    "    print(\"This file not exists\")\n",
    "    \n",
    "print(\"Class $ \")"
   ]
  },
  {
   "cell_type": "code",
   "execution_count": 82,
   "id": "6260d970",
   "metadata": {},
   "outputs": [
    {
     "name": "stdout",
     "output_type": "stream",
     "text": [
      "Please enter the file name : abc.txt\n",
      "\n",
      "Class $ \n"
     ]
    }
   ],
   "source": [
    "try:\n",
    "    filename = input(\"Please enter the file name : \")\n",
    "    \n",
    "    with open(filename, \"r\") as f:\n",
    "        data = f.read()\n",
    "        print(data)\n",
    "        \n",
    "except:\n",
    "    print(\"file not exists, I am creating the file\")\n",
    "    \n",
    "    with open(filename, \"w\") as f:\n",
    "        data = f.write(\"File Created\")\n",
    "        \n",
    "print(\"Class $ \")"
   ]
  },
  {
   "cell_type": "code",
   "execution_count": null,
   "id": "df49cd33",
   "metadata": {},
   "outputs": [],
   "source": []
  }
 ],
 "metadata": {
  "kernelspec": {
   "display_name": "Python 3 (ipykernel)",
   "language": "python",
   "name": "python3"
  },
  "language_info": {
   "codemirror_mode": {
    "name": "ipython",
    "version": 3
   },
   "file_extension": ".py",
   "mimetype": "text/x-python",
   "name": "python",
   "nbconvert_exporter": "python",
   "pygments_lexer": "ipython3",
   "version": "3.10.9"
  }
 },
 "nbformat": 4,
 "nbformat_minor": 5
}
