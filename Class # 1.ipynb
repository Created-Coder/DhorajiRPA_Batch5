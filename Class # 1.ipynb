{
 "cells": [
  {
   "cell_type": "code",
   "execution_count": 1,
   "id": "0ec68f8b",
   "metadata": {},
   "outputs": [],
   "source": [
    "# Data types\n",
    "# Strings (str) (Alphabetical Data)\n",
    "# Integer (int)  (Numbers Data)\n",
    "# Float (float) (Decimal Numbers)"
   ]
  },
  {
   "cell_type": "code",
   "execution_count": 3,
   "id": "f2453f36",
   "metadata": {},
   "outputs": [
    {
     "data": {
      "text/plain": [
       "'My Name is Salman'"
      ]
     },
     "execution_count": 3,
     "metadata": {},
     "output_type": "execute_result"
    }
   ],
   "source": [
    "# Strings \n",
    "\"My Name is Salman\" or 'My Name is Salman' or \"231435325\""
   ]
  },
  {
   "cell_type": "code",
   "execution_count": 4,
   "id": "dd914af0",
   "metadata": {},
   "outputs": [
    {
     "data": {
      "text/plain": [
       "1234567"
      ]
     },
     "execution_count": 4,
     "metadata": {},
     "output_type": "execute_result"
    }
   ],
   "source": [
    "# Numbers\n",
    "1234567"
   ]
  },
  {
   "cell_type": "code",
   "execution_count": 6,
   "id": "3888c813",
   "metadata": {},
   "outputs": [
    {
     "data": {
      "text/plain": [
       "10.025"
      ]
     },
     "execution_count": 6,
     "metadata": {},
     "output_type": "execute_result"
    }
   ],
   "source": [
    "# Float\n",
    "10.025"
   ]
  },
  {
   "cell_type": "code",
   "execution_count": 7,
   "id": "303c7f4a",
   "metadata": {},
   "outputs": [
    {
     "data": {
      "text/plain": [
       "str"
      ]
     },
     "execution_count": 7,
     "metadata": {},
     "output_type": "execute_result"
    }
   ],
   "source": [
    "type(\"My name is Salman\")"
   ]
  },
  {
   "cell_type": "code",
   "execution_count": 8,
   "id": "31bd9edd",
   "metadata": {},
   "outputs": [
    {
     "data": {
      "text/plain": [
       "int"
      ]
     },
     "execution_count": 8,
     "metadata": {},
     "output_type": "execute_result"
    }
   ],
   "source": [
    "type(3425435)"
   ]
  },
  {
   "cell_type": "code",
   "execution_count": 9,
   "id": "04f26c11",
   "metadata": {},
   "outputs": [
    {
     "data": {
      "text/plain": [
       "float"
      ]
     },
     "execution_count": 9,
     "metadata": {},
     "output_type": "execute_result"
    }
   ],
   "source": [
    "type(10.054)"
   ]
  },
  {
   "cell_type": "code",
   "execution_count": 10,
   "id": "1754e906",
   "metadata": {},
   "outputs": [
    {
     "name": "stdout",
     "output_type": "stream",
     "text": [
      "My name is Salman\n"
     ]
    }
   ],
   "source": [
    "print(\"My name is Salman\")"
   ]
  },
  {
   "cell_type": "code",
   "execution_count": 11,
   "id": "2dfa99a1",
   "metadata": {},
   "outputs": [
    {
     "name": "stdout",
     "output_type": "stream",
     "text": [
      "10323\n"
     ]
    }
   ],
   "source": [
    "print(10323)"
   ]
  },
  {
   "cell_type": "code",
   "execution_count": 15,
   "id": "b843cc35",
   "metadata": {},
   "outputs": [
    {
     "name": "stdout",
     "output_type": "stream",
     "text": [
      "10.243\n"
     ]
    }
   ],
   "source": [
    "print(10.243)"
   ]
  },
  {
   "cell_type": "code",
   "execution_count": 16,
   "id": "e1063719",
   "metadata": {},
   "outputs": [],
   "source": [
    "name = \"salman\""
   ]
  },
  {
   "cell_type": "code",
   "execution_count": 17,
   "id": "a48c860d",
   "metadata": {},
   "outputs": [
    {
     "name": "stdout",
     "output_type": "stream",
     "text": [
      "salman\n"
     ]
    }
   ],
   "source": [
    "print(name)"
   ]
  },
  {
   "cell_type": "code",
   "execution_count": 18,
   "id": "8219de38",
   "metadata": {},
   "outputs": [],
   "source": [
    "num = 20"
   ]
  },
  {
   "cell_type": "code",
   "execution_count": 23,
   "id": "13279518",
   "metadata": {},
   "outputs": [
    {
     "data": {
      "text/plain": [
       "10.0"
      ]
     },
     "execution_count": 23,
     "metadata": {},
     "output_type": "execute_result"
    }
   ],
   "source": [
    "num / 2"
   ]
  },
  {
   "cell_type": "code",
   "execution_count": 25,
   "id": "2394aa41",
   "metadata": {},
   "outputs": [],
   "source": [
    "num = num / 2"
   ]
  },
  {
   "cell_type": "code",
   "execution_count": 26,
   "id": "bfbecb2c",
   "metadata": {},
   "outputs": [
    {
     "data": {
      "text/plain": [
       "10.0"
      ]
     },
     "execution_count": 26,
     "metadata": {},
     "output_type": "execute_result"
    }
   ],
   "source": [
    "num"
   ]
  },
  {
   "cell_type": "code",
   "execution_count": 27,
   "id": "9439fafb",
   "metadata": {},
   "outputs": [],
   "source": [
    "num = num + 10"
   ]
  },
  {
   "cell_type": "code",
   "execution_count": 28,
   "id": "2e4b2a76",
   "metadata": {},
   "outputs": [
    {
     "data": {
      "text/plain": [
       "20.0"
      ]
     },
     "execution_count": 28,
     "metadata": {},
     "output_type": "execute_result"
    }
   ],
   "source": [
    "num"
   ]
  },
  {
   "cell_type": "code",
   "execution_count": 29,
   "id": "309569a6",
   "metadata": {},
   "outputs": [],
   "source": [
    "num = num - 30"
   ]
  },
  {
   "cell_type": "code",
   "execution_count": 30,
   "id": "03280db2",
   "metadata": {},
   "outputs": [
    {
     "data": {
      "text/plain": [
       "-10.0"
      ]
     },
     "execution_count": 30,
     "metadata": {},
     "output_type": "execute_result"
    }
   ],
   "source": [
    "num"
   ]
  },
  {
   "cell_type": "code",
   "execution_count": 31,
   "id": "8a6f7eb8",
   "metadata": {},
   "outputs": [],
   "source": [
    "num = num * 2"
   ]
  },
  {
   "cell_type": "code",
   "execution_count": 32,
   "id": "15749d82",
   "metadata": {},
   "outputs": [
    {
     "data": {
      "text/plain": [
       "-20.0"
      ]
     },
     "execution_count": 32,
     "metadata": {},
     "output_type": "execute_result"
    }
   ],
   "source": [
    "num"
   ]
  },
  {
   "cell_type": "code",
   "execution_count": 33,
   "id": "87a36a7a",
   "metadata": {},
   "outputs": [],
   "source": [
    "num += 20"
   ]
  },
  {
   "cell_type": "code",
   "execution_count": 34,
   "id": "171d7fc1",
   "metadata": {},
   "outputs": [
    {
     "data": {
      "text/plain": [
       "0.0"
      ]
     },
     "execution_count": 34,
     "metadata": {},
     "output_type": "execute_result"
    }
   ],
   "source": [
    "num"
   ]
  },
  {
   "cell_type": "code",
   "execution_count": 35,
   "id": "050a9c61",
   "metadata": {},
   "outputs": [],
   "source": [
    "num *= 10"
   ]
  },
  {
   "cell_type": "code",
   "execution_count": 37,
   "id": "7be872e7",
   "metadata": {},
   "outputs": [],
   "source": [
    "num += 20"
   ]
  },
  {
   "cell_type": "code",
   "execution_count": 38,
   "id": "2ad82bae",
   "metadata": {},
   "outputs": [],
   "source": [
    "num *= 2"
   ]
  },
  {
   "cell_type": "code",
   "execution_count": 39,
   "id": "565d675d",
   "metadata": {},
   "outputs": [
    {
     "data": {
      "text/plain": [
       "40.0"
      ]
     },
     "execution_count": 39,
     "metadata": {},
     "output_type": "execute_result"
    }
   ],
   "source": [
    "num"
   ]
  },
  {
   "cell_type": "code",
   "execution_count": 40,
   "id": "3eb58053",
   "metadata": {},
   "outputs": [],
   "source": [
    "num /= 2"
   ]
  },
  {
   "cell_type": "code",
   "execution_count": 41,
   "id": "76c8b4a8",
   "metadata": {},
   "outputs": [
    {
     "data": {
      "text/plain": [
       "20.0"
      ]
     },
     "execution_count": 41,
     "metadata": {},
     "output_type": "execute_result"
    }
   ],
   "source": [
    "num"
   ]
  },
  {
   "cell_type": "code",
   "execution_count": 50,
   "id": "dae6b956",
   "metadata": {},
   "outputs": [],
   "source": [
    "num = 12"
   ]
  },
  {
   "cell_type": "code",
   "execution_count": 51,
   "id": "4eaa7ad7",
   "metadata": {},
   "outputs": [],
   "source": [
    "ans = num % 3"
   ]
  },
  {
   "cell_type": "code",
   "execution_count": 52,
   "id": "2b90995e",
   "metadata": {},
   "outputs": [
    {
     "data": {
      "text/plain": [
       "0"
      ]
     },
     "execution_count": 52,
     "metadata": {},
     "output_type": "execute_result"
    }
   ],
   "source": [
    "ans"
   ]
  },
  {
   "cell_type": "code",
   "execution_count": 53,
   "id": "f53b5a2f",
   "metadata": {},
   "outputs": [],
   "source": [
    "# BODMAS\n",
    "# B Bracket\n",
    "# O Open\n",
    "# D Divide\n",
    "# M Multiply\n",
    "# A Add\n",
    "# S Subtract"
   ]
  },
  {
   "cell_type": "code",
   "execution_count": 54,
   "id": "04643642",
   "metadata": {},
   "outputs": [],
   "source": [
    "total = 1 + 3 * 4"
   ]
  },
  {
   "cell_type": "code",
   "execution_count": 56,
   "id": "89d77da4",
   "metadata": {},
   "outputs": [],
   "source": [
    "total = 1 + (3 * 4)"
   ]
  },
  {
   "cell_type": "code",
   "execution_count": 58,
   "id": "1be875f9",
   "metadata": {},
   "outputs": [],
   "source": [
    "total = (1 + 3) * 4"
   ]
  },
  {
   "cell_type": "code",
   "execution_count": 71,
   "id": "2cf8c2fc",
   "metadata": {},
   "outputs": [
    {
     "data": {
      "text/plain": [
       "0.08695652173913043"
      ]
     },
     "execution_count": 71,
     "metadata": {},
     "output_type": "execute_result"
    }
   ],
   "source": [
    "total"
   ]
  },
  {
   "cell_type": "code",
   "execution_count": 65,
   "id": "a450ef2b",
   "metadata": {},
   "outputs": [],
   "source": [
    "total = (1 * 8 / 4) / "
   ]
  },
  {
   "cell_type": "code",
   "execution_count": 67,
   "id": "d82ba67d",
   "metadata": {},
   "outputs": [
    {
     "data": {
      "text/plain": [
       "23"
      ]
     },
     "execution_count": 67,
     "metadata": {},
     "output_type": "execute_result"
    }
   ],
   "source": [
    "(3 + 5 * (2 * 2))"
   ]
  },
  {
   "cell_type": "code",
   "execution_count": 68,
   "id": "5e661107",
   "metadata": {},
   "outputs": [
    {
     "data": {
      "text/plain": [
       "2.0"
      ]
     },
     "execution_count": 68,
     "metadata": {},
     "output_type": "execute_result"
    }
   ],
   "source": [
    "(1 * 8 / 4)"
   ]
  },
  {
   "cell_type": "code",
   "execution_count": 91,
   "id": "32306eaf",
   "metadata": {},
   "outputs": [],
   "source": [
    "name = \" Salman\"\n",
    "message = \"Hello\""
   ]
  },
  {
   "cell_type": "code",
   "execution_count": 92,
   "id": "009fe0b1",
   "metadata": {},
   "outputs": [],
   "source": [
    "total = message + name"
   ]
  },
  {
   "cell_type": "code",
   "execution_count": 93,
   "id": "210401a8",
   "metadata": {},
   "outputs": [
    {
     "data": {
      "text/plain": [
       "'Hello Salman'"
      ]
     },
     "execution_count": 93,
     "metadata": {},
     "output_type": "execute_result"
    }
   ],
   "source": [
    "total"
   ]
  },
  {
   "cell_type": "code",
   "execution_count": 95,
   "id": "9f4005b7",
   "metadata": {},
   "outputs": [],
   "source": [
    "message = \"my age is \"\n",
    "age = 10"
   ]
  },
  {
   "cell_type": "code",
   "execution_count": 96,
   "id": "00212928",
   "metadata": {},
   "outputs": [
    {
     "ename": "TypeError",
     "evalue": "can only concatenate str (not \"int\") to str",
     "output_type": "error",
     "traceback": [
      "\u001b[1;31m---------------------------------------------------------------------------\u001b[0m",
      "\u001b[1;31mTypeError\u001b[0m                                 Traceback (most recent call last)",
      "Cell \u001b[1;32mIn[96], line 1\u001b[0m\n\u001b[1;32m----> 1\u001b[0m \u001b[43mmessage\u001b[49m\u001b[43m \u001b[49m\u001b[38;5;241;43m+\u001b[39;49m\u001b[43m \u001b[49m\u001b[43mage\u001b[49m\n",
      "\u001b[1;31mTypeError\u001b[0m: can only concatenate str (not \"int\") to str"
     ]
    }
   ],
   "source": [
    "message + age"
   ]
  },
  {
   "cell_type": "code",
   "execution_count": 97,
   "id": "914987c7",
   "metadata": {},
   "outputs": [],
   "source": [
    "# convert int to str"
   ]
  },
  {
   "cell_type": "code",
   "execution_count": 101,
   "id": "2cf08f59",
   "metadata": {},
   "outputs": [],
   "source": [
    "age = str(age)"
   ]
  },
  {
   "cell_type": "code",
   "execution_count": 103,
   "id": "1d6d805c",
   "metadata": {},
   "outputs": [
    {
     "data": {
      "text/plain": [
       "'my age is 10'"
      ]
     },
     "execution_count": 103,
     "metadata": {},
     "output_type": "execute_result"
    }
   ],
   "source": [
    "message + age"
   ]
  },
  {
   "cell_type": "code",
   "execution_count": 104,
   "id": "b8a5df6d",
   "metadata": {},
   "outputs": [
    {
     "ename": "TypeError",
     "evalue": "unsupported operand type(s) for /: 'str' and 'int'",
     "output_type": "error",
     "traceback": [
      "\u001b[1;31m---------------------------------------------------------------------------\u001b[0m",
      "\u001b[1;31mTypeError\u001b[0m                                 Traceback (most recent call last)",
      "Cell \u001b[1;32mIn[104], line 1\u001b[0m\n\u001b[1;32m----> 1\u001b[0m \u001b[43mage\u001b[49m\u001b[43m \u001b[49m\u001b[38;5;241;43m/\u001b[39;49m\u001b[43m \u001b[49m\u001b[38;5;241;43m2\u001b[39;49m\n",
      "\u001b[1;31mTypeError\u001b[0m: unsupported operand type(s) for /: 'str' and 'int'"
     ]
    }
   ],
   "source": [
    "age / 2"
   ]
  },
  {
   "cell_type": "code",
   "execution_count": 105,
   "id": "11b1c354",
   "metadata": {},
   "outputs": [],
   "source": [
    "# Convert string to integer\n",
    "\n",
    "age = int(age)"
   ]
  },
  {
   "cell_type": "code",
   "execution_count": 108,
   "id": "be58e1e1",
   "metadata": {},
   "outputs": [
    {
     "data": {
      "text/plain": [
       "10"
      ]
     },
     "execution_count": 108,
     "metadata": {},
     "output_type": "execute_result"
    }
   ],
   "source": [
    "age "
   ]
  },
  {
   "cell_type": "code",
   "execution_count": null,
   "id": "5dad6eed",
   "metadata": {},
   "outputs": [],
   "source": []
  }
 ],
 "metadata": {
  "kernelspec": {
   "display_name": "Python 3 (ipykernel)",
   "language": "python",
   "name": "python3"
  },
  "language_info": {
   "codemirror_mode": {
    "name": "ipython",
    "version": 3
   },
   "file_extension": ".py",
   "mimetype": "text/x-python",
   "name": "python",
   "nbconvert_exporter": "python",
   "pygments_lexer": "ipython3",
   "version": "3.10.9"
  }
 },
 "nbformat": 4,
 "nbformat_minor": 5
}
